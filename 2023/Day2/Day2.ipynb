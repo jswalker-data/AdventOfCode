{
 "cells": [
  {
   "cell_type": "code",
   "execution_count": 22,
   "metadata": {},
   "outputs": [],
   "source": [
    "blue_max = {}\n",
    "red_max = {}\n",
    "green_max = {}\n",
    "\n",
    "for line in open('C:\\Files\\Code\\AdventOfCode23\\Day2\\Day2.txt'):\n",
    "    b_list = []\n",
    "    r_list = []\n",
    "    g_list = []\n",
    "    game = int(line.split(' ')[1].split(':')[0])\n",
    "    split_blue = line.split(' blue')\n",
    "    split_red = line.split(' red')\n",
    "    split_green = line.split(' green')\n",
    "    for x in split_blue:\n",
    "        try:\n",
    "            b_list.append(int(x.split(' ')[-1]))\n",
    "        except:\n",
    "            pass\n",
    "    for x in split_red:\n",
    "        try:\n",
    "            r_list.append(int(x.split(' ')[-1]))\n",
    "        except:\n",
    "            pass\n",
    "    for x in split_green:\n",
    "        try:\n",
    "            g_list.append(int(x.split(' ')[-1]))\n",
    "        except:\n",
    "            pass\n",
    "    blue_max[game] = max(b_list)\n",
    "    red_max[game] = max(r_list)\n",
    "    green_max[game] = max(g_list)\n",
    "    \n"
   ]
  },
  {
   "cell_type": "code",
   "execution_count": 23,
   "metadata": {},
   "outputs": [],
   "source": [
    "b_limit = 14\n",
    "r_limit = 12\n",
    "g_limit = 13\n",
    "\n",
    "b_bool = {}\n",
    "r_bool = {}\n",
    "g_bool = {}"
   ]
  },
  {
   "cell_type": "code",
   "execution_count": 24,
   "metadata": {},
   "outputs": [],
   "source": [
    "for x in range(1,101):\n",
    "    if blue_max[x] <= b_limit:\n",
    "        b_bool[x] = True\n",
    "    else:\n",
    "        b_bool[x] = False\n",
    "\n",
    "    if red_max[x] <= r_limit:\n",
    "        r_bool[x] = True\n",
    "    else:\n",
    "        r_bool[x] = False\n",
    "\n",
    "    if green_max[x] <= g_limit:\n",
    "        g_bool[x] = True\n",
    "    else:\n",
    "        g_bool[x] = False"
   ]
  },
  {
   "cell_type": "code",
   "execution_count": 25,
   "metadata": {},
   "outputs": [],
   "source": [
    "overall = {}\n",
    "\n",
    "for x in range(1,101):\n",
    "    overall[x] = b_bool[x] and r_bool[x] and g_bool[x]\n"
   ]
  },
  {
   "cell_type": "code",
   "execution_count": 26,
   "metadata": {},
   "outputs": [
    {
     "name": "stdout",
     "output_type": "stream",
     "text": [
      "2156\n"
     ]
    }
   ],
   "source": [
    "total = 0 \n",
    "\n",
    "for x in range(1,101):\n",
    "    if overall[x] == True:\n",
    "        total += x\n",
    "    else:\n",
    "        pass\n",
    "\n",
    "print(total)"
   ]
  },
  {
   "cell_type": "markdown",
   "metadata": {},
   "source": [
    "Part 2"
   ]
  },
  {
   "cell_type": "code",
   "execution_count": 27,
   "metadata": {},
   "outputs": [
    {
     "name": "stdout",
     "output_type": "stream",
     "text": [
      "66909\n"
     ]
    }
   ],
   "source": [
    "power_tot = 0\n",
    "\n",
    "for x in range(1,101):\n",
    "    power = blue_max[x]*red_max[x]*green_max[x]\n",
    "    power_tot +=power\n",
    "\n",
    "print(power_tot)"
   ]
  }
 ],
 "metadata": {
  "kernelspec": {
   "display_name": "base",
   "language": "python",
   "name": "python3"
  },
  "language_info": {
   "codemirror_mode": {
    "name": "ipython",
    "version": 3
   },
   "file_extension": ".py",
   "mimetype": "text/x-python",
   "name": "python",
   "nbconvert_exporter": "python",
   "pygments_lexer": "ipython3",
   "version": "3.9.18"
  }
 },
 "nbformat": 4,
 "nbformat_minor": 2
}
